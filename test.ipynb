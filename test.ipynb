{
 "cells": [
  {
   "cell_type": "code",
   "execution_count": 7,
   "metadata": {},
   "outputs": [
    {
     "name": "stdout",
     "output_type": "stream",
     "text": [
      "0xddc0ecc7\n"
     ]
    }
   ],
   "source": [
    "from eth_utils import keccak\n",
    "\n",
    "# Define the function signature\n",
    "function_signature = \"execTransactionFromModule(address,uint256,bytes,Enum.Operation)\"\n",
    "\n",
    "# Compute the keccak256 hash of the function signature\n",
    "hash = keccak(text=function_signature)\n",
    "\n",
    "# Extract the first 4 bytes (8 hex characters) to get the function selector\n",
    "selector = '0x' + hash[:4].hex()\n",
    "\n",
    "print(selector)  # Output: 0x<selector>"
   ]
  }
 ],
 "metadata": {
  "kernelspec": {
   "display_name": "Python 3",
   "language": "python",
   "name": "python3"
  },
  "language_info": {
   "codemirror_mode": {
    "name": "ipython",
    "version": 3
   },
   "file_extension": ".py",
   "mimetype": "text/x-python",
   "name": "python",
   "nbconvert_exporter": "python",
   "pygments_lexer": "ipython3",
   "version": "3.12.6"
  }
 },
 "nbformat": 4,
 "nbformat_minor": 2
}
